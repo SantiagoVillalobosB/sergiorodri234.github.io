{
  "nbformat": 4,
  "nbformat_minor": 0,
  "metadata": {
    "colab": {
      "name": "Untitled5.ipynb",
      "provenance": []
    },
    "kernelspec": {
      "name": "python3",
      "display_name": "Python 3"
    },
    "language_info": {
      "name": "python"
    }
  },
  "cells": [
    {
      "cell_type": "markdown",
      "source": [
        "\n",
        "# funcion anonima\n",
        "\n",
        "### lambda\n",
        "\n"
      ],
      "metadata": {
        "id": "YGnviiuFpks8"
      }
    },
    {
      "cell_type": "code",
      "source": [
        "suma = lambda x,y:x+y"
      ],
      "metadata": {
        "id": "KiGTV8O4pKts"
      },
      "execution_count": null,
      "outputs": []
    },
    {
      "cell_type": "code",
      "source": [
        "suma(4,4)"
      ],
      "metadata": {
        "colab": {
          "base_uri": "https://localhost:8080/"
        },
        "id": "97bU2nAzpYJg",
        "outputId": "4e2641d5-7e34-478e-f65a-770a8155e6d8"
      },
      "execution_count": null,
      "outputs": [
        {
          "output_type": "execute_result",
          "data": {
            "text/plain": [
              "8"
            ]
          },
          "metadata": {},
          "execution_count": 4
        }
      ]
    },
    {
      "cell_type": "code",
      "source": [
        "def suma(x,y):\n",
        "         return x+y"
      ],
      "metadata": {
        "id": "ZnDBY6_ipaHZ"
      },
      "execution_count": null,
      "outputs": []
    },
    {
      "cell_type": "markdown",
      "source": [
        "#generadores"
      ],
      "metadata": {
        "id": "KaTpBPISqAQV"
      }
    },
    {
      "cell_type": "code",
      "source": [
        "def  gen_cuads(n):\n",
        "  for i in range(n):\n",
        "    yield i**2"
      ],
      "metadata": {
        "id": "pEoqVGaCqCmq"
      },
      "execution_count": null,
      "outputs": []
    },
    {
      "cell_type": "code",
      "source": [
        "generador = gen_cuads(5)"
      ],
      "metadata": {
        "id": "WOJdXq8_qv-c"
      },
      "execution_count": null,
      "outputs": []
    },
    {
      "cell_type": "code",
      "source": [
        "generador"
      ],
      "metadata": {
        "colab": {
          "base_uri": "https://localhost:8080/"
        },
        "id": "_YycGo6kq31c",
        "outputId": "2bbc4942-e3df-4773-e3c7-8f38439cafeb"
      },
      "execution_count": null,
      "outputs": [
        {
          "output_type": "execute_result",
          "data": {
            "text/plain": [
              "<generator object gen_cuads at 0x7fa8607b6dd0>"
            ]
          },
          "metadata": {},
          "execution_count": 40
        }
      ]
    },
    {
      "cell_type": "code",
      "source": [
        "for i in range(5):\n",
        "  print(i**2)"
      ],
      "metadata": {
        "colab": {
          "base_uri": "https://localhost:8080/"
        },
        "id": "_yN0y9FCrDo0",
        "outputId": "b22a060e-281c-4612-b65a-a4e08a757a3e"
      },
      "execution_count": null,
      "outputs": [
        {
          "output_type": "stream",
          "name": "stdout",
          "text": [
            "0\n",
            "1\n",
            "4\n",
            "9\n",
            "16\n"
          ]
        }
      ]
    },
    {
      "cell_type": "code",
      "source": [
        "next(generador)"
      ],
      "metadata": {
        "colab": {
          "base_uri": "https://localhost:8080/"
        },
        "id": "iDM-IPoyrMgE",
        "outputId": "4bcced20-8f60-44a6-d29a-74a3b9d3c7cc"
      },
      "execution_count": null,
      "outputs": [
        {
          "output_type": "execute_result",
          "data": {
            "text/plain": [
              "0"
            ]
          },
          "metadata": {},
          "execution_count": 43
        }
      ]
    },
    {
      "cell_type": "code",
      "source": [
        "for i in gen_cuads(5):\n",
        "  print(i)"
      ],
      "metadata": {
        "colab": {
          "base_uri": "https://localhost:8080/"
        },
        "id": "qoj9OSNQreVs",
        "outputId": "10146d06-b4ad-4b34-e757-f7c4b49a64ce"
      },
      "execution_count": null,
      "outputs": [
        {
          "output_type": "stream",
          "name": "stdout",
          "text": [
            "0\n",
            "1\n",
            "4\n",
            "9\n",
            "16\n"
          ]
        }
      ]
    },
    {
      "cell_type": "code",
      "source": [
        "list(gen_cuads(5))"
      ],
      "metadata": {
        "colab": {
          "base_uri": "https://localhost:8080/"
        },
        "id": "yQwEL5aQryIs",
        "outputId": "ea8e44d2-f510-4456-fc7f-288951816016"
      },
      "execution_count": null,
      "outputs": [
        {
          "output_type": "execute_result",
          "data": {
            "text/plain": [
              "[0, 1, 4, 9, 16]"
            ]
          },
          "metadata": {},
          "execution_count": 46
        }
      ]
    },
    {
      "cell_type": "code",
      "source": [
        "import numpy as np"
      ],
      "metadata": {
        "id": "eqmaLb6cr8Ns"
      },
      "execution_count": null,
      "outputs": []
    },
    {
      "cell_type": "code",
      "source": [
        "def gen_normal(n):\n",
        "  for i in range(n):\n",
        "    yield np.random.normal(100,25,15)"
      ],
      "metadata": {
        "id": "yvm1t3L1r_k0"
      },
      "execution_count": null,
      "outputs": []
    },
    {
      "cell_type": "code",
      "source": [
        "\n",
        "\n",
        "\n",
        "def media(vector):\n",
        "  for i in vector:\n",
        "   return(sum(vector))/len(vector)\n"
      ],
      "metadata": {
        "id": "LgkPf-QUsbL0"
      },
      "execution_count": null,
      "outputs": []
    },
    {
      "cell_type": "code",
      "source": [
        "medias_normal = list()\n",
        "for i in gen_normal(100):\n",
        "  medias_normal.append(media(i))\n"
      ],
      "metadata": {
        "id": "g3HWY2ietYUR"
      },
      "execution_count": null,
      "outputs": []
    },
    {
      "cell_type": "code",
      "source": [
        "medias_normal"
      ],
      "metadata": {
        "colab": {
          "base_uri": "https://localhost:8080/"
        },
        "id": "ERMr3ZrSt7Aa",
        "outputId": "d1331dc6-78a6-4ec6-b492-a4df51a27676"
      },
      "execution_count": null,
      "outputs": [
        {
          "output_type": "execute_result",
          "data": {
            "text/plain": [
              "[96.82815883076755,\n",
              " 89.42315699298085,\n",
              " 97.40456583504148,\n",
              " 100.38902242453814,\n",
              " 108.73507162837151,\n",
              " 97.69507396144478,\n",
              " 95.69128201878024,\n",
              " 81.23529592588142,\n",
              " 109.77368280628477,\n",
              " 101.00067429715376,\n",
              " 102.23869245903425,\n",
              " 95.54668371615823,\n",
              " 110.87392833458745,\n",
              " 104.15771936794454,\n",
              " 103.07228653587887,\n",
              " 102.16012400011074,\n",
              " 101.38212994843462,\n",
              " 108.53387712671538,\n",
              " 104.1823674580058,\n",
              " 98.00175141857203,\n",
              " 98.14451305614145,\n",
              " 103.1179631757939,\n",
              " 108.69630868608934,\n",
              " 87.49944341202985,\n",
              " 103.15704032406829,\n",
              " 102.51858633528569,\n",
              " 107.81492866000823,\n",
              " 99.67706921946298,\n",
              " 96.61760460347735,\n",
              " 103.01942893754864,\n",
              " 102.1537393942331,\n",
              " 95.94093947836446,\n",
              " 102.42962264238008,\n",
              " 115.44541966617018,\n",
              " 103.9428848800098,\n",
              " 93.7290372527917,\n",
              " 102.18692850675538,\n",
              " 88.94542945936918,\n",
              " 81.87603251761828,\n",
              " 96.99396897007459,\n",
              " 97.9918086518989,\n",
              " 99.18058146419807,\n",
              " 100.58770058181088,\n",
              " 96.65598172440657,\n",
              " 96.2799926191638,\n",
              " 91.63533811612439,\n",
              " 105.40249265607046,\n",
              " 103.27108020647756,\n",
              " 98.4454799958625,\n",
              " 98.63215804250736,\n",
              " 106.04563101833953,\n",
              " 106.34420617502552,\n",
              " 95.60353114079967,\n",
              " 87.67295290555398,\n",
              " 101.15117290915796,\n",
              " 108.21992964868102,\n",
              " 101.74875637745465,\n",
              " 104.45066350813951,\n",
              " 93.29379180346226,\n",
              " 103.19557379230437,\n",
              " 103.0395739161546,\n",
              " 102.50090498359086,\n",
              " 99.30911264490341,\n",
              " 95.72019816400335,\n",
              " 80.5163322914353,\n",
              " 93.30744415305611,\n",
              " 96.41788701380383,\n",
              " 116.27919806030008,\n",
              " 87.35201625442993,\n",
              " 93.07256246493144,\n",
              " 100.9649924794469,\n",
              " 91.72249228387078,\n",
              " 102.65886451278926,\n",
              " 98.08715254397971,\n",
              " 104.28085312958754,\n",
              " 100.94694702912619,\n",
              " 90.8615612160627,\n",
              " 95.21929805811516,\n",
              " 114.05652341997028,\n",
              " 110.96829535693297,\n",
              " 94.99894147474387,\n",
              " 96.31686276956194,\n",
              " 104.81285096051245,\n",
              " 96.22247945495951,\n",
              " 109.96164302415404,\n",
              " 93.40426139568687,\n",
              " 102.98914286664869,\n",
              " 101.20700172852882,\n",
              " 109.45363866248616,\n",
              " 92.5996565896222,\n",
              " 107.96935046831764,\n",
              " 100.27452360690857,\n",
              " 88.03988359278976,\n",
              " 109.40772479916542,\n",
              " 92.80655212255729,\n",
              " 101.45445150085247,\n",
              " 110.31398938479562,\n",
              " 92.97084637475572,\n",
              " 103.54121787946384,\n",
              " 106.16733267261132]"
            ]
          },
          "metadata": {},
          "execution_count": 89
        }
      ]
    },
    {
      "cell_type": "code",
      "source": [
        "media"
      ],
      "metadata": {
        "colab": {
          "base_uri": "https://localhost:8080/"
        },
        "id": "4xfMuLZQuFX5",
        "outputId": "3ca904f7-b4bd-4fb3-edce-71a9d411ad16"
      },
      "execution_count": null,
      "outputs": [
        {
          "output_type": "execute_result",
          "data": {
            "text/plain": [
              "<function __main__.media>"
            ]
          },
          "metadata": {},
          "execution_count": 90
        }
      ]
    },
    {
      "cell_type": "code",
      "source": [
        "import matplotlib.pyplot as plt\n",
        "plt.hist(medias_normal)"
      ],
      "metadata": {
        "colab": {
          "base_uri": "https://localhost:8080/",
          "height": 360
        },
        "id": "mvClcnMpuXRC",
        "outputId": "642830d9-5742-4ff6-b314-ac273ed5f2a8"
      },
      "execution_count": null,
      "outputs": [
        {
          "output_type": "execute_result",
          "data": {
            "text/plain": [
              "(array([ 3.,  2.,  5., 10., 21., 16., 24.,  9.,  7.,  3.]),\n",
              " array([ 80.51633229,  84.09261887,  87.66890545,  91.24519202,\n",
              "         94.8214786 ,  98.39776518, 101.97405175, 105.55033833,\n",
              "        109.12662491, 112.70291148, 116.27919806]),\n",
              " <a list of 10 Patch objects>)"
            ]
          },
          "metadata": {},
          "execution_count": 95
        },
        {
          "output_type": "display_data",
          "data": {
            "image/png": "[encoded data removed]",
            "text/plain": [
              "<Figure size 432x288 with 1 Axes>"
            ]
          },
          "metadata": {
            "needs_background": "light"
          }
        }
      ]
    },
    {
      "cell_type": "markdown",
      "source": [
        "\n",
        "# generador list comprehesion\n"
      ],
      "metadata": {
        "id": "3esbVDQB0LSP"
      }
    },
    {
      "cell_type": "code",
      "source": [
        "lista_cuads = [i**2 for i in range(20)]"
      ],
      "metadata": {
        "id": "U6vwj4Jtusui"
      },
      "execution_count": null,
      "outputs": []
    },
    {
      "cell_type": "code",
      "source": [
        "gen_cuads = ( i**2 for i in range(20))"
      ],
      "metadata": {
        "id": "XuNMKnWEu0ax"
      },
      "execution_count": null,
      "outputs": []
    },
    {
      "cell_type": "markdown",
      "source": [
        ""
      ],
      "metadata": {
        "id": "K_2jSqMH0Khn"
      }
    },
    {
      "cell_type": "code",
      "source": [
        "x = int(input(\"ingrese un numero:\"))\n",
        "a = x + 5 "
      ],
      "metadata": {
        "colab": {
          "base_uri": "https://localhost:8080/"
        },
        "id": "7mb9-gtRu9q5",
        "outputId": "be2f9cd0-1f0b-4142-abf0-035e64555098"
      },
      "execution_count": null,
      "outputs": [
        {
          "name": "stdout",
          "output_type": "stream",
          "text": [
            "ingrese un numero:4\n"
          ]
        }
      ]
    },
    {
      "cell_type": "code",
      "source": [
        "while True:\n",
        "  x = int(input(\"ingrese un numero\"))\n",
        "  a = x + 5"
      ],
      "metadata": {
        "colab": {
          "base_uri": "https://localhost:8080/",
          "height": 565
        },
        "id": "pxv_AZdavWXy",
        "outputId": "5d245601-6e75-4a4a-e2da-573b312c1fb8"
      },
      "execution_count": null,
      "outputs": [
        {
          "output_type": "error",
          "ename": "KeyboardInterrupt",
          "evalue": "ignored",
          "traceback": [
            "\u001b[0;31m---------------------------------------------------------------------------\u001b[0m",
            "\u001b[0;31mKeyboardInterrupt\u001b[0m                         Traceback (most recent call last)",
            "\u001b[0;32m/usr/local/lib/python3.7/dist-packages/ipykernel/kernelbase.py\u001b[0m in \u001b[0;36m_input_request\u001b[0;34m(self, prompt, ident, parent, password)\u001b[0m\n\u001b[1;32m    728\u001b[0m             \u001b[0;32mtry\u001b[0m\u001b[0;34m:\u001b[0m\u001b[0;34m\u001b[0m\u001b[0;34m\u001b[0m\u001b[0m\n\u001b[0;32m--> 729\u001b[0;31m                 \u001b[0mident\u001b[0m\u001b[0;34m,\u001b[0m \u001b[0mreply\u001b[0m \u001b[0;34m=\u001b[0m \u001b[0mself\u001b[0m\u001b[0;34m.\u001b[0m\u001b[0msession\u001b[0m\u001b[0;34m.\u001b[0m\u001b[0mrecv\u001b[0m\u001b[0;34m(\u001b[0m\u001b[0mself\u001b[0m\u001b[0;34m.\u001b[0m\u001b[0mstdin_socket\u001b[0m\u001b[0;34m,\u001b[0m \u001b[0;36m0\u001b[0m\u001b[0;34m)\u001b[0m\u001b[0;34m\u001b[0m\u001b[0;34m\u001b[0m\u001b[0m\n\u001b[0m\u001b[1;32m    730\u001b[0m             \u001b[0;32mexcept\u001b[0m \u001b[0mException\u001b[0m\u001b[0;34m:\u001b[0m\u001b[0;34m\u001b[0m\u001b[0;34m\u001b[0m\u001b[0m\n",
            "\u001b[0;32m/usr/local/lib/python3.7/dist-packages/jupyter_client/session.py\u001b[0m in \u001b[0;36mrecv\u001b[0;34m(self, socket, mode, content, copy)\u001b[0m\n\u001b[1;32m    802\u001b[0m         \u001b[0;32mtry\u001b[0m\u001b[0;34m:\u001b[0m\u001b[0;34m\u001b[0m\u001b[0;34m\u001b[0m\u001b[0m\n\u001b[0;32m--> 803\u001b[0;31m             \u001b[0mmsg_list\u001b[0m \u001b[0;34m=\u001b[0m \u001b[0msocket\u001b[0m\u001b[0;34m.\u001b[0m\u001b[0mrecv_multipart\u001b[0m\u001b[0;34m(\u001b[0m\u001b[0mmode\u001b[0m\u001b[0;34m,\u001b[0m \u001b[0mcopy\u001b[0m\u001b[0;34m=\u001b[0m\u001b[0mcopy\u001b[0m\u001b[0;34m)\u001b[0m\u001b[0;34m\u001b[0m\u001b[0;34m\u001b[0m\u001b[0m\n\u001b[0m\u001b[1;32m    804\u001b[0m         \u001b[0;32mexcept\u001b[0m \u001b[0mzmq\u001b[0m\u001b[0;34m.\u001b[0m\u001b[0mZMQError\u001b[0m \u001b[0;32mas\u001b[0m \u001b[0me\u001b[0m\u001b[0;34m:\u001b[0m\u001b[0;34m\u001b[0m\u001b[0;34m\u001b[0m\u001b[0m\n",
            "\u001b[0;32m/usr/local/lib/python3.7/dist-packages/zmq/sugar/socket.py\u001b[0m in \u001b[0;36mrecv_multipart\u001b[0;34m(self, flags, copy, track)\u001b[0m\n\u001b[1;32m    624\u001b[0m         \"\"\"\n\u001b[0;32m--> 625\u001b[0;31m         \u001b[0mparts\u001b[0m \u001b[0;34m=\u001b[0m \u001b[0;34m[\u001b[0m\u001b[0mself\u001b[0m\u001b[0;34m.\u001b[0m\u001b[0mrecv\u001b[0m\u001b[0;34m(\u001b[0m\u001b[0mflags\u001b[0m\u001b[0;34m,\u001b[0m \u001b[0mcopy\u001b[0m\u001b[0;34m=\u001b[0m\u001b[0mcopy\u001b[0m\u001b[0;34m,\u001b[0m \u001b[0mtrack\u001b[0m\u001b[0;34m=\u001b[0m\u001b[0mtrack\u001b[0m\u001b[0;34m)\u001b[0m\u001b[0;34m]\u001b[0m\u001b[0;34m\u001b[0m\u001b[0;34m\u001b[0m\u001b[0m\n\u001b[0m\u001b[1;32m    626\u001b[0m         \u001b[0;31m# have first part already, only loop while more to receive\u001b[0m\u001b[0;34m\u001b[0m\u001b[0;34m\u001b[0m\u001b[0;34m\u001b[0m\u001b[0m\n",
            "\u001b[0;32mzmq/backend/cython/socket.pyx\u001b[0m in \u001b[0;36mzmq.backend.cython.socket.Socket.recv\u001b[0;34m()\u001b[0m\n",
            "\u001b[0;32mzmq/backend/cython/socket.pyx\u001b[0m in \u001b[0;36mzmq.backend.cython.socket.Socket.recv\u001b[0;34m()\u001b[0m\n",
            "\u001b[0;32mzmq/backend/cython/socket.pyx\u001b[0m in \u001b[0;36mzmq.backend.cython.socket._recv_copy\u001b[0;34m()\u001b[0m\n",
            "\u001b[0;32m/usr/local/lib/python3.7/dist-packages/zmq/backend/cython/checkrc.pxd\u001b[0m in \u001b[0;36mzmq.backend.cython.checkrc._check_rc\u001b[0;34m()\u001b[0m\n",
            "\u001b[0;31mKeyboardInterrupt\u001b[0m: ",
            "\nDuring handling of the above exception, another exception occurred:\n",
            "\u001b[0;31mKeyboardInterrupt\u001b[0m                         Traceback (most recent call last)",
            "\u001b[0;32m<ipython-input-167-75a8b4d29300>\u001b[0m in \u001b[0;36m<module>\u001b[0;34m()\u001b[0m\n\u001b[1;32m      1\u001b[0m \u001b[0;32mwhile\u001b[0m \u001b[0;32mTrue\u001b[0m\u001b[0;34m:\u001b[0m\u001b[0;34m\u001b[0m\u001b[0;34m\u001b[0m\u001b[0m\n\u001b[0;32m----> 2\u001b[0;31m   \u001b[0mx\u001b[0m \u001b[0;34m=\u001b[0m \u001b[0mint\u001b[0m\u001b[0;34m(\u001b[0m\u001b[0minput\u001b[0m\u001b[0;34m(\u001b[0m\u001b[0;34m\"ingrese un numero\"\u001b[0m\u001b[0;34m)\u001b[0m\u001b[0;34m)\u001b[0m\u001b[0;34m\u001b[0m\u001b[0;34m\u001b[0m\u001b[0m\n\u001b[0m\u001b[1;32m      3\u001b[0m   \u001b[0ma\u001b[0m \u001b[0;34m=\u001b[0m \u001b[0mx\u001b[0m \u001b[0;34m+\u001b[0m \u001b[0;36m5\u001b[0m\u001b[0;34m\u001b[0m\u001b[0;34m\u001b[0m\u001b[0m\n",
            "\u001b[0;32m/usr/local/lib/python3.7/dist-packages/ipykernel/kernelbase.py\u001b[0m in \u001b[0;36mraw_input\u001b[0;34m(self, prompt)\u001b[0m\n\u001b[1;32m    702\u001b[0m             \u001b[0mself\u001b[0m\u001b[0;34m.\u001b[0m\u001b[0m_parent_ident\u001b[0m\u001b[0;34m,\u001b[0m\u001b[0;34m\u001b[0m\u001b[0;34m\u001b[0m\u001b[0m\n\u001b[1;32m    703\u001b[0m             \u001b[0mself\u001b[0m\u001b[0;34m.\u001b[0m\u001b[0m_parent_header\u001b[0m\u001b[0;34m,\u001b[0m\u001b[0;34m\u001b[0m\u001b[0;34m\u001b[0m\u001b[0m\n\u001b[0;32m--> 704\u001b[0;31m             \u001b[0mpassword\u001b[0m\u001b[0;34m=\u001b[0m\u001b[0;32mFalse\u001b[0m\u001b[0;34m,\u001b[0m\u001b[0;34m\u001b[0m\u001b[0;34m\u001b[0m\u001b[0m\n\u001b[0m\u001b[1;32m    705\u001b[0m         )\n\u001b[1;32m    706\u001b[0m \u001b[0;34m\u001b[0m\u001b[0m\n",
            "\u001b[0;32m/usr/local/lib/python3.7/dist-packages/ipykernel/kernelbase.py\u001b[0m in \u001b[0;36m_input_request\u001b[0;34m(self, prompt, ident, parent, password)\u001b[0m\n\u001b[1;32m    732\u001b[0m             \u001b[0;32mexcept\u001b[0m \u001b[0mKeyboardInterrupt\u001b[0m\u001b[0;34m:\u001b[0m\u001b[0;34m\u001b[0m\u001b[0;34m\u001b[0m\u001b[0m\n\u001b[1;32m    733\u001b[0m                 \u001b[0;31m# re-raise KeyboardInterrupt, to truncate traceback\u001b[0m\u001b[0;34m\u001b[0m\u001b[0;34m\u001b[0m\u001b[0;34m\u001b[0m\u001b[0m\n\u001b[0;32m--> 734\u001b[0;31m                 \u001b[0;32mraise\u001b[0m \u001b[0mKeyboardInterrupt\u001b[0m\u001b[0;34m\u001b[0m\u001b[0;34m\u001b[0m\u001b[0m\n\u001b[0m\u001b[1;32m    735\u001b[0m             \u001b[0;32melse\u001b[0m\u001b[0;34m:\u001b[0m\u001b[0;34m\u001b[0m\u001b[0;34m\u001b[0m\u001b[0m\n\u001b[1;32m    736\u001b[0m                 \u001b[0;32mbreak\u001b[0m\u001b[0;34m\u001b[0m\u001b[0;34m\u001b[0m\u001b[0m\n",
            "\u001b[0;31mKeyboardInterrupt\u001b[0m: "
          ]
        }
      ]
    },
    {
      "cell_type": "code",
      "source": [
        ""
      ],
      "metadata": {
        "id": "dfB0a1Go2fti"
      },
      "execution_count": null,
      "outputs": []
    },
    {
      "cell_type": "code",
      "source": [
        "#while True:\n",
        "try:\n",
        "  x= int(input(\"ingrese un numero:\"))\n",
        "  a = x+5\n",
        "  #print(b)\n",
        "  #break\n",
        "except ValueError as e:\n",
        "  print(\"hay un error\",\"e\")\n",
        "except NameError:\n",
        "  print(\"La variable no esta definida\")\n",
        "else:\n",
        "  print(\"solo si el try se cumple\")\n",
        "finally:\n",
        "  print( \" si o si se ejecuta\")"
      ],
      "metadata": {
        "id": "K0MzPYRcwTe6"
      },
      "execution_count": null,
      "outputs": []
    },
    {
      "cell_type": "markdown",
      "source": [
        "### Metodos\n",
        "### Atributos\n",
        "\n"
      ],
      "metadata": {
        "id": "pHkLD-5p2pnJ"
      }
    },
    {
      "cell_type": "code",
      "source": [
        ""
      ],
      "metadata": {
        "id": "U-sefeWc40h_"
      },
      "execution_count": null,
      "outputs": []
    },
    {
      "cell_type": "code",
      "source": [
        "\n",
        "\n",
        "\n",
        "class Persona:\n",
        "  def __init__(self,nombre,edad,peso,estatura,riqueza):\n",
        "    self.nombre = nombre\n",
        "    self.edad = edad \n",
        "    self.peso = peso\n",
        "    self.estatura = estatura\n",
        "    self.riqueza = riqueza\n",
        "  def hbd(self):\n",
        "    self.edad+=1\n",
        "  def comer():\n",
        "    self.peso+=5\n",
        "       \n",
        "\n"
      ],
      "metadata": {
        "id": "BnOOCfqfySp3"
      },
      "execution_count": null,
      "outputs": []
    },
    {
      "cell_type": "code",
      "source": [
        "sergio.edad\n",
        "sergio.hbd()\n",
        "sergio.edad"
      ],
      "metadata": {
        "colab": {
          "base_uri": "https://localhost:8080/",
          "height": 211
        },
        "id": "Ra0_-EQo56b0",
        "outputId": "87626cf9-0e4d-4e2e-ef26-becc4a4cdcbc"
      },
      "execution_count": null,
      "outputs": [
        {
          "output_type": "error",
          "ename": "AttributeError",
          "evalue": "ignored",
          "traceback": [
            "\u001b[0;31m---------------------------------------------------------------------------\u001b[0m",
            "\u001b[0;31mAttributeError\u001b[0m                            Traceback (most recent call last)",
            "\u001b[0;32m<ipython-input-230-b373429567bd>\u001b[0m in \u001b[0;36m<module>\u001b[0;34m()\u001b[0m\n\u001b[1;32m      1\u001b[0m \u001b[0msergio\u001b[0m\u001b[0;34m.\u001b[0m\u001b[0medad\u001b[0m\u001b[0;34m\u001b[0m\u001b[0;34m\u001b[0m\u001b[0m\n\u001b[0;32m----> 2\u001b[0;31m \u001b[0msergio\u001b[0m\u001b[0;34m.\u001b[0m\u001b[0mhbd\u001b[0m\u001b[0;34m(\u001b[0m\u001b[0;34m)\u001b[0m\u001b[0;34m\u001b[0m\u001b[0;34m\u001b[0m\u001b[0m\n\u001b[0m\u001b[1;32m      3\u001b[0m \u001b[0msergio\u001b[0m\u001b[0;34m.\u001b[0m\u001b[0medad\u001b[0m\u001b[0;34m\u001b[0m\u001b[0;34m\u001b[0m\u001b[0m\n",
            "\u001b[0;31mAttributeError\u001b[0m: 'Persona' object has no attribute 'hbd'"
          ]
        }
      ]
    },
    {
      "cell_type": "code",
      "source": [
        "sergio.hbd"
      ],
      "metadata": {
        "id": "tw22LWn06zA0",
        "outputId": "a9da41fd-0e6e-4fe4-d9d8-ac095b6783fd",
        "colab": {
          "base_uri": "https://localhost:8080/",
          "height": 174
        }
      },
      "execution_count": null,
      "outputs": [
        {
          "output_type": "error",
          "ename": "AttributeError",
          "evalue": "ignored",
          "traceback": [
            "\u001b[0;31m---------------------------------------------------------------------------\u001b[0m",
            "\u001b[0;31mAttributeError\u001b[0m                            Traceback (most recent call last)",
            "\u001b[0;32m<ipython-input-232-6f3ad9d659a4>\u001b[0m in \u001b[0;36m<module>\u001b[0;34m()\u001b[0m\n\u001b[0;32m----> 1\u001b[0;31m \u001b[0msergio\u001b[0m\u001b[0;34m.\u001b[0m\u001b[0mhbd\u001b[0m\u001b[0;34m\u001b[0m\u001b[0;34m\u001b[0m\u001b[0m\n\u001b[0m",
            "\u001b[0;31mAttributeError\u001b[0m: 'Persona' object has no attribute 'hbd'"
          ]
        }
      ]
    },
    {
      "cell_type": "code",
      "source": [
        "sergio = Persona(\"Sergio\",21,50,1.7,0)"
      ],
      "metadata": {
        "id": "ALnlZImix_6_"
      },
      "execution_count": null,
      "outputs": []
    },
    {
      "cell_type": "markdown",
      "source": [
        "\n"
      ],
      "metadata": {
        "id": "R5GJ-XzFvMdR"
      }
    },
    {
      "cell_type": "code",
      "source": [
        "sergio.nombre\n",
        "sergio.edad\n",
        "sergio.peso\n",
        "sergio.estatura\n",
        "sergio.riqueza"
      ],
      "metadata": {
        "colab": {
          "base_uri": "https://localhost:8080/"
        },
        "id": "uZYFsV1T41mG",
        "outputId": "d48cdb26-923c-4592-fb65-b947695ad7ae"
      },
      "execution_count": null,
      "outputs": [
        {
          "output_type": "execute_result",
          "data": {
            "text/plain": [
              "0"
            ]
          },
          "metadata": {},
          "execution_count": 220
        }
      ]
    },
    {
      "cell_type": "code",
      "source": [
        "def funcion(lista):\n",
        "  if type(lista)==list:\n",
        "    sumatoria = lambda x: sum(x)\n",
        "    tamaño = lambda x: len(x)\n",
        "    promedio = sumatoria(lista)/len(lista)\n",
        "    return promedio\n",
        "  else:\n",
        "       print(\"la variable debe ser una lista \")\n",
        "iterable = [1,4,5,7,8,23,1]\n",
        "       "
      ],
      "metadata": {
        "id": "fNaiYVUT5iWe"
      },
      "execution_count": null,
      "outputs": []
    },
    {
      "cell_type": "code",
      "source": [
        " funcion(iterable)"
      ],
      "metadata": {
        "colab": {
          "base_uri": "https://localhost:8080/"
        },
        "id": "wLEHMniRD7mB",
        "outputId": "8ec15262-aaed-40f5-9624-1bafabc8ef43"
      },
      "execution_count": null,
      "outputs": [
        {
          "output_type": "execute_result",
          "data": {
            "text/plain": [
              "7.0"
            ]
          },
          "metadata": {},
          "execution_count": 250
        }
      ]
    },
    {
      "cell_type": "code",
      "source": [
        "def suma(x,y):\n",
        "  return(x+y)"
      ],
      "metadata": {
        "id": "Gljg4Zz_Dkc6"
      },
      "execution_count": null,
      "outputs": []
    },
    {
      "cell_type": "code",
      "source": [
        "suma(5,4)"
      ],
      "metadata": {
        "colab": {
          "base_uri": "https://localhost:8080/"
        },
        "id": "ZpVhTknvDudh",
        "outputId": "25e277ef-4110-4915-9fa2-e9136f38d995"
      },
      "execution_count": null,
      "outputs": [
        {
          "output_type": "execute_result",
          "data": {
            "text/plain": [
              "9"
            ]
          },
          "metadata": {},
          "execution_count": 241
        }
      ]
    },
    {
      "cell_type": "markdown",
      "source": [
        ""
      ],
      "metadata": {
        "id": "05uJudlZu-dq"
      }
    }
  ]
}